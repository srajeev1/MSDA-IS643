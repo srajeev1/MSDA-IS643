{
 "cells": [
  {
   "cell_type": "markdown",
   "metadata": {},
   "source": [
    "# DATA 643 - Final Project "
   ]
  },
  {
   "cell_type": "markdown",
   "metadata": {},
   "source": [
    "### Sreejaya Nair and Suman K Polavarapu"
   ]
  },
  {
   "cell_type": "markdown",
   "metadata": {},
   "source": [
    "#### Description: \n",
    "*Explore the Apache Spark Cluster Computing Framework by analysing the movielens dataset. Provide recommendations using MLLib*"
   ]
  },
  {
   "cell_type": "code",
   "execution_count": 1,
   "metadata": {
    "collapsed": false
   },
   "outputs": [
    {
     "name": "stdout",
     "output_type": "stream",
     "text": [
      "Populating the interactive namespace from numpy and matplotlib\n"
     ]
    }
   ],
   "source": [
    "import os\n",
    "import sys\n",
    "import urllib2\n",
    "import collections\n",
    "import matplotlib.pyplot as plt\n",
    "import math\n",
    "from time import time, sleep\n",
    "%pylab inline"
   ]
  },
  {
   "cell_type": "markdown",
   "metadata": {},
   "source": [
    "#### Prepare the pySpark Environment"
   ]
  },
  {
   "cell_type": "code",
   "execution_count": 2,
   "metadata": {
    "collapsed": false
   },
   "outputs": [],
   "source": [
    "spark_home = os.environ.get('SPARK_HOME', None)\n",
    "\n",
    "if not spark_home:    \n",
    "    raise ValueError(\"Please set SPARK_HOME environment variable!\")\n",
    "\n",
    "# Add the py4j to the path.\n",
    "sys.path.insert(0, os.path.join(spark_home, 'python'))\n",
    "sys.path.insert(0, os.path.join(spark_home, 'C:/spark/python/lib/py4j-0.9-src.zip'))\n"
   ]
  },
  {
   "cell_type": "markdown",
   "metadata": {
    "collapsed": true
   },
   "source": [
    "## Initialize Spark Context"
   ]
  },
  {
   "cell_type": "code",
   "execution_count": 3,
   "metadata": {
    "collapsed": true
   },
   "outputs": [],
   "source": [
    "from pyspark.mllib.recommendation import ALS, Rating\n",
    "from pyspark import SparkConf, SparkContext"
   ]
  },
  {
   "cell_type": "code",
   "execution_count": 4,
   "metadata": {
    "collapsed": false
   },
   "outputs": [],
   "source": [
    "conf = SparkConf().setMaster(\"local[*]\").setAppName(\"MovieRecommendationsALS\").set(\"spark.executor.memory\", \"2g\")\n",
    "sc = SparkContext(conf = conf)"
   ]
  },
  {
   "cell_type": "markdown",
   "metadata": {},
   "source": [
    "## Load and Analyse Data"
   ]
  },
  {
   "cell_type": "code",
   "execution_count": 5,
   "metadata": {
    "collapsed": true
   },
   "outputs": [],
   "source": [
    "def loadMovieNames():\n",
    "    movieNames = {}\n",
    "    for line in urllib2.urlopen(\"https://raw.githubusercontent.com/psumank/DATA643/master/WK5/ml-100k/u.item\"):\n",
    "        fields = line.split('|')\n",
    "        movieNames[int(fields[0])] = fields[1].decode('ascii', 'ignore')\n",
    "    return movieNames"
   ]
  },
  {
   "cell_type": "code",
   "execution_count": 6,
   "metadata": {
    "collapsed": false
   },
   "outputs": [
    {
     "name": "stdout",
     "output_type": "stream",
     "text": [
      "\n",
      "Loading movie names...\n",
      "\n",
      "Loading ratings data...\n"
     ]
    }
   ],
   "source": [
    "print \"\\nLoading movie names...\"\n",
    "nameDict = loadMovieNames()\n",
    "\n",
    "print \"\\nLoading ratings data...\"\n",
    "data = sc.textFile(\"file:///C:/Users/p_sum/.ipynb_checkpoints/ml-100k/u.data\")"
   ]
  },
  {
   "cell_type": "code",
   "execution_count": 7,
   "metadata": {
    "collapsed": false
   },
   "outputs": [
    {
     "name": "stdout",
     "output_type": "stream",
     "text": [
      "1 6110\n",
      "2 11370\n",
      "3 27145\n",
      "4 34174\n",
      "5 21201\n"
     ]
    }
   ],
   "source": [
    "ratings = data.map(lambda x: x.split()[2])\n",
    "\n",
    "#action -- just to trigger the driver [ lazy evaluation ]\n",
    "rating_results = ratings.countByValue()\n",
    "\n",
    "sortedResults = collections.OrderedDict(sorted(rating_results.items()))\n",
    "for key, value in sortedResults.iteritems():\n",
    "    print \"%s %i\" % (key, value)"
   ]
  },
  {
   "cell_type": "markdown",
   "metadata": {},
   "source": [
    "### Ratings Histogram"
   ]
  },
  {
   "cell_type": "code",
   "execution_count": 8,
   "metadata": {
    "collapsed": false
   },
   "outputs": [
    {
     "name": "stdout",
     "output_type": "stream",
     "text": [
      "Ratings Histogram\n"
     ]
    },
    {
     "data": {
      "image/png": "[encoded data removed]",
      "text/plain": [
       "<matplotlib.figure.Figure at 0xa5f6710>"
      ]
     },
     "metadata": {},
     "output_type": "display_data"
    }
   ],
   "source": [
    "ratPlot = plt.bar(range(len(sortedResults)), sortedResults.values(), align='center')\n",
    "plt.xticks(range(len(sortedResults)), list(sortedResults.keys()))\n",
    "ratPlot[3].set_color('g')\n",
    "print \"Ratings Histogram\"\n"
   ]
  },
  {
   "cell_type": "markdown",
   "metadata": {},
   "source": [
    "### Most popular movies"
   ]
  },
  {
   "cell_type": "code",
   "execution_count": 9,
   "metadata": {
    "collapsed": false
   },
   "outputs": [],
   "source": [
    "movies = data.map(lambda x: (int(x.split()[1]), 1))\n",
    "movieCounts = movies.reduceByKey(lambda x, y: x + y)\n",
    "flipped = movieCounts.map( lambda (x, y) : (y, x))\n",
    "sortedMovies = flipped.sortByKey(False)\n",
    "sortedMoviesWithNames = sortedMovies.map(lambda (count, movie) : (nameDict[movie], count))"
   ]
  },
  {
   "cell_type": "code",
   "execution_count": 10,
   "metadata": {
    "collapsed": false
   },
   "outputs": [],
   "source": [
    "results = sortedMoviesWithNames.collect()\n",
    "subset = results[0:10]\n",
    "popular_movieNm = [str(i[0]) for i in subset]\n",
    "popularity_strength = [int(i[1]) for i in subset]"
   ]
  },
  {
   "cell_type": "code",
   "execution_count": 11,
   "metadata": {
    "collapsed": false
   },
   "outputs": [
    {
     "name": "stdout",
     "output_type": "stream",
     "text": [
      "Most Popular Movies from the Dataset\n"
     ]
    },
    {
     "data": {
      "image/png": "[encoded data removed]",
      "text/plain": [
       "<matplotlib.figure.Figure at 0xa619898>"
      ]
     },
     "metadata": {},
     "output_type": "display_data"
    }
   ],
   "source": [
    "popMovplot = plt.barh(range(len(subset)), popularity_strength, align='center')\n",
    "plt.yticks(range(len(subset)), popular_movieNm)\n",
    "popMovplot[0].set_color('g')\n",
    "print \"Most Popular Movies from the Dataset\"\n"
   ]
  },
  {
   "cell_type": "markdown",
   "metadata": {},
   "source": [
    "### Similar Movies"
   ]
  },
  {
   "cell_type": "markdown",
   "metadata": {},
   "source": [
    "Find similar movies for a given movie using cosine similarity"
   ]
  },
  {
   "cell_type": "code",
   "execution_count": 12,
   "metadata": {
    "collapsed": false
   },
   "outputs": [],
   "source": [
    "ratingsRDD = data.map(lambda l: l.split()).map(lambda l: (int(l[0]), (int(l[1]), float(l[2]))))\n"
   ]
  },
  {
   "cell_type": "code",
   "execution_count": 13,
   "metadata": {
    "collapsed": false
   },
   "outputs": [
    {
     "data": {
      "text/plain": [
       "[(1, (61, 4.0)),\n",
       " (1, (189, 3.0)),\n",
       " (1, (33, 4.0)),\n",
       " (1, (160, 4.0)),\n",
       " (1, (20, 4.0)),\n",
       " (1, (202, 5.0)),\n",
       " (1, (171, 5.0)),\n",
       " (1, (265, 4.0)),\n",
       " (1, (155, 2.0)),\n",
       " (1, (117, 3.0))]"
      ]
     },
     "execution_count": 13,
     "metadata": {},
     "output_type": "execute_result"
    }
   ],
   "source": [
    "ratingsRDD.takeOrdered(10, key = lambda x: x[0])"
   ]
  },
  {
   "cell_type": "code",
   "execution_count": 14,
   "metadata": {
    "collapsed": false
   },
   "outputs": [
    {
     "data": {
      "text/plain": [
       "[(196, (242, 3.0)), (186, (302, 3.0)), (22, (377, 1.0)), (244, (51, 2.0))]"
      ]
     },
     "execution_count": 14,
     "metadata": {},
     "output_type": "execute_result"
    }
   ],
   "source": [
    "ratingsRDD.take(4)"
   ]
  },
  {
   "cell_type": "code",
   "execution_count": 15,
   "metadata": {
    "collapsed": false
   },
   "outputs": [
    {
     "data": {
      "text/plain": [
       "[(1, ((61, 4.0), (61, 4.0))),\n",
       " (1, ((61, 4.0), (189, 3.0))),\n",
       " (1, ((61, 4.0), (33, 4.0))),\n",
       " (1, ((61, 4.0), (160, 4.0))),\n",
       " (1, ((61, 4.0), (20, 4.0))),\n",
       " (1, ((61, 4.0), (202, 5.0))),\n",
       " (1, ((61, 4.0), (171, 5.0))),\n",
       " (1, ((61, 4.0), (265, 4.0))),\n",
       " (1, ((61, 4.0), (155, 2.0))),\n",
       " (1, ((61, 4.0), (117, 3.0)))]"
      ]
     },
     "execution_count": 15,
     "metadata": {},
     "output_type": "execute_result"
    }
   ],
   "source": [
    "# Movies rated by same user. ==> [ user ID ==> ( (movieID, rating), (movieID, rating)) ]\n",
    "userJoinedRatings = ratingsRDD.join(ratingsRDD)\n",
    "\n",
    "userJoinedRatings.takeOrdered(10, key = lambda x: x[0])"
   ]
  },
  {
   "cell_type": "code",
   "execution_count": 16,
   "metadata": {
    "collapsed": false
   },
   "outputs": [
    {
     "data": {
      "text/plain": [
       "[(1, ((61, 4.0), (189, 3.0))),\n",
       " (1, ((61, 4.0), (160, 4.0))),\n",
       " (1, ((61, 4.0), (202, 5.0))),\n",
       " (1, ((61, 4.0), (171, 5.0))),\n",
       " (1, ((61, 4.0), (265, 4.0))),\n",
       " (1, ((61, 4.0), (155, 2.0))),\n",
       " (1, ((61, 4.0), (117, 3.0))),\n",
       " (1, ((61, 4.0), (222, 4.0))),\n",
       " (1, ((61, 4.0), (253, 5.0))),\n",
       " (1, ((61, 4.0), (113, 5.0)))]"
      ]
     },
     "execution_count": 16,
     "metadata": {},
     "output_type": "execute_result"
    }
   ],
   "source": [
    "# Remove dups\n",
    "def filterDups( (userID, ratings) ):\n",
    "    (movie1, rating1) = ratings[0]\n",
    "    (movie2, rating2) = ratings[1]\n",
    "    return movie1 < movie2\n",
    "\n",
    "uniqueUserJoinedRatings = userJoinedRatings.filter(filterDups)\n",
    "\n",
    "uniqueUserJoinedRatings.takeOrdered(10, key = lambda x: x[0])"
   ]
  },
  {
   "cell_type": "code",
   "execution_count": 17,
   "metadata": {
    "collapsed": false
   },
   "outputs": [
    {
     "data": {
      "text/plain": [
       "[((1, 2), (4.0, 3.0)),\n",
       " ((1, 2), (4.0, 3.0)),\n",
       " ((1, 2), (4.0, 3.0)),\n",
       " ((1, 2), (5.0, 4.0)),\n",
       " ((1, 2), (4.0, 3.0)),\n",
       " ((1, 2), (5.0, 3.0)),\n",
       " ((1, 2), (5.0, 5.0)),\n",
       " ((1, 2), (5.0, 4.0)),\n",
       " ((1, 2), (5.0, 4.0)),\n",
       " ((1, 2), (3.0, 4.0))]"
      ]
     },
     "execution_count": 17,
     "metadata": {},
     "output_type": "execute_result"
    }
   ],
   "source": [
    "# Now key by (movie1, movie2) pairs ==> (movie1, movie2) => (rating1, rating2)\n",
    "def makeMovieRatingPairs((user, ratings)):\n",
    "    (movie1, rating1) = ratings[0]\n",
    "    (movie2, rating2) = ratings[1]\n",
    "    return ((movie1, movie2), (rating1, rating2))\n",
    "\n",
    "moviePairs = uniqueUserJoinedRatings.map(makeMovieRatingPairs)\n",
    "\n",
    "moviePairs.takeOrdered(10, key = lambda x: x[0])"
   ]
  },
  {
   "cell_type": "code",
   "execution_count": 18,
   "metadata": {
    "collapsed": false
   },
   "outputs": [
    {
     "data": {
      "text/plain": [
       "[((1, 2), <pyspark.resultiterable.ResultIterable at 0xaa92da0>),\n",
       " ((1, 3), <pyspark.resultiterable.ResultIterable at 0xaa92908>),\n",
       " ((1, 4), <pyspark.resultiterable.ResultIterable at 0xa5ca588>),\n",
       " ((1, 5), <pyspark.resultiterable.ResultIterable at 0xac252e8>),\n",
       " ((1, 6), <pyspark.resultiterable.ResultIterable at 0xaa92fd0>),\n",
       " ((1, 7), <pyspark.resultiterable.ResultIterable at 0xaabb208>),\n",
       " ((1, 8), <pyspark.resultiterable.ResultIterable at 0xa5ca748>),\n",
       " ((1, 9), <pyspark.resultiterable.ResultIterable at 0xac25128>),\n",
       " ((1, 10), <pyspark.resultiterable.ResultIterable at 0xaa92940>),\n",
       " ((1, 11), <pyspark.resultiterable.ResultIterable at 0xaabba90>)]"
      ]
     },
     "execution_count": 18,
     "metadata": {},
     "output_type": "execute_result"
    }
   ],
   "source": [
    "#collect all ratings for each movie pair and compute similarity. (movie1, movie2) = > (rating1, rating2), (rating1, rating2) ...\n",
    "moviePairRatings = moviePairs.groupByKey()\n",
    "moviePairRatings.takeOrdered(10, key = lambda x: x[0])"
   ]
  },
  {
   "cell_type": "code",
   "execution_count": 19,
   "metadata": {
    "collapsed": false
   },
   "outputs": [
    {
     "data": {
      "text/plain": [
       "[((1, 2), (0.9487373941786248, 104)),\n",
       " ((1, 3), (0.9132997212006829, 78)),\n",
       " ((1, 4), (0.9429068878509639, 149)),\n",
       " ((1, 5), (0.9613638498709224, 57)),\n",
       " ((1, 6), (0.9551193973874768, 14)),\n",
       " ((1, 7), (0.948915528102488, 281)),\n",
       " ((1, 8), (0.9600459451420741, 154)),\n",
       " ((1, 9), (0.9387445181517423, 201)),\n",
       " ((1, 10), (0.943039377274702, 61)),\n",
       " ((1, 11), (0.9573860685968381, 160))]"
      ]
     },
     "execution_count": 19,
     "metadata": {},
     "output_type": "execute_result"
    }
   ],
   "source": [
    "#Compute Similarity\n",
    "def cosineSimilarity(ratingPairs):\n",
    "    numPairs = 0\n",
    "    sum_xx = sum_yy = sum_xy = 0\n",
    "    for ratingX, ratingY in ratingPairs:\n",
    "        sum_xx += ratingX * ratingX\n",
    "        sum_yy += ratingY * ratingY\n",
    "        sum_xy += ratingX * ratingY\n",
    "        numPairs += 1\n",
    "\n",
    "    numerator = sum_xy\n",
    "    denominator = sqrt(sum_xx) * sqrt(sum_yy)\n",
    "\n",
    "    score = 0\n",
    "    if (denominator):\n",
    "        score = (numerator / (float(denominator)))\n",
    "\n",
    "    return (score, numPairs)\n",
    "\n",
    "moviePairSimilarities = moviePairRatings.mapValues(cosineSimilarity).cache()\n",
    "\n",
    "moviePairSimilarities.takeOrdered(10, key = lambda x: x[0])"
   ]
  },
  {
   "cell_type": "markdown",
   "metadata": {},
   "source": [
    "#### Lets find similar movies for Toy Story (Movie ID: 1)"
   ]
  },
  {
   "cell_type": "code",
   "execution_count": 20,
   "metadata": {
    "collapsed": false
   },
   "outputs": [],
   "source": [
    "scoreThreshold = 0.97\n",
    "coOccurenceThreshold = 50\n",
    "\n",
    "inputMovieID = 1  #Toy Story. \n",
    "\n",
    "# Filter for movies with this sim that are \"good\" as defined by our quality thresholds.\n",
    "filteredResults = moviePairSimilarities.filter(lambda((pair,sim)): \\\n",
    "    (pair[0] == inputMovieID or pair[1] == inputMovieID) and sim[0] > scoreThreshold and sim[1] > coOccurenceThreshold)"
   ]
  },
  {
   "cell_type": "code",
   "execution_count": 21,
   "metadata": {
    "collapsed": false
   },
   "outputs": [
    {
     "name": "stdout",
     "output_type": "stream",
     "text": [
      "Top 10 similar movies for Toy Story (1995)\n",
      "Hamlet (1996)\tscore: 0.974543871512\tstrength: 67\n",
      "Raiders of the Lost Ark (1981)\tscore: 0.974084217219\tstrength: 273\n",
      "Cinderella (1950)\tscore: 0.974002987747\tstrength: 105\n",
      "Winnie the Pooh and the Blustery Day (1968)\tscore: 0.973415495885\tstrength: 58\n",
      "Cool Hand Luke (1967)\tscore: 0.97334234772\tstrength: 98\n",
      "Great Escape, The (1963)\tscore: 0.973270581613\tstrength: 77\n",
      "African Queen, The (1951)\tscore: 0.973151271508\tstrength: 101\n",
      "Apollo 13 (1995)\tscore: 0.972395120538\tstrength: 207\n",
      "12 Angry Men (1957)\tscore: 0.971987295102\tstrength: 81\n",
      "Wrong Trousers, The (1993)\tscore: 0.971814306667\tstrength: 90\n"
     ]
    }
   ],
   "source": [
    " #Top 10 by quality score.\n",
    "    \n",
    "results = filteredResults.map(lambda((pair,sim)): (sim, pair)).sortByKey(ascending = False).take(10)\n",
    "\n",
    "print \"Top 10 similar movies for \" + nameDict[inputMovieID]\n",
    "\n",
    "for result in results:\n",
    "    (sim, pair) = result\n",
    "    # Display the similarity result that isn't the movie we're looking at\n",
    "    similarMovieID = pair[0]\n",
    "    if (similarMovieID == inputMovieID):\n",
    "        similarMovieID = pair[1]\n",
    "    print nameDict[similarMovieID] + \"\\tscore: \" + str(sim[0]) + \"\\tstrength: \" + str(sim[1])"
   ]
  },
  {
   "cell_type": "markdown",
   "metadata": {},
   "source": [
    "### Recommender using MLLib"
   ]
  },
  {
   "cell_type": "markdown",
   "metadata": {},
   "source": [
    "#### Training the recommendation model"
   ]
  },
  {
   "cell_type": "code",
   "execution_count": 22,
   "metadata": {
    "collapsed": false
   },
   "outputs": [
    {
     "data": {
      "text/plain": [
       "[Rating(user=196, product=242, rating=3.0),\n",
       " Rating(user=186, product=302, rating=3.0),\n",
       " Rating(user=22, product=377, rating=1.0)]"
      ]
     },
     "execution_count": 22,
     "metadata": {},
     "output_type": "execute_result"
    }
   ],
   "source": [
    "ratings = data.map(lambda l: l.split()).map(lambda l: Rating(int(l[0]), int(l[1]), float(l[2]))).cache()\n",
    "ratings.take(3)"
   ]
  },
  {
   "cell_type": "code",
   "execution_count": 23,
   "metadata": {
    "collapsed": false
   },
   "outputs": [
    {
     "name": "stdout",
     "output_type": "stream",
     "text": [
      "We have Got 100000 ratings from 943 users on 1682 movies.\n"
     ]
    }
   ],
   "source": [
    "nratings  = ratings.count()\n",
    "nUsers    = ratings.keys().distinct().count()\n",
    "nMovies   = ratings.values().distinct().count()\n",
    "\n",
    "print \"We have Got %d ratings from %d users on %d movies.\" % (nratings, nUsers, nMovies)"
   ]
  },
  {
   "cell_type": "code",
   "execution_count": 24,
   "metadata": {
    "collapsed": false
   },
   "outputs": [
    {
     "name": "stdout",
     "output_type": "stream",
     "text": [
      "Model trained in 5.348 seconds\n"
     ]
    }
   ],
   "source": [
    "# Build the recommendation model using Alternating Least Squares\n",
    "#Train a matrix factorization model given an RDD of ratings given by users to items, in the form of\n",
    "#(userID, itemID, rating) pairs. We approximate the ratings matrix as the product of two lower-rank matrices \n",
    "#of a given rank (number of features). To solve for these features, we run a given number of iterations of ALS. \n",
    "#The level of parallelism is determined automatically based on the number of partitions in ratings.\n",
    "\n",
    "start = time()\n",
    "\n",
    "seed = 5L\n",
    "iterations = 10\n",
    "rank = 8\n",
    "\n",
    "model = ALS.train(ratings, rank, iterations)\n",
    "\n",
    "duration = time() - start\n",
    "\n",
    "print \"Model trained in %s seconds\" % round(duration,3)"
   ]
  },
  {
   "cell_type": "markdown",
   "metadata": {},
   "source": [
    "#### Recommendations"
   ]
  },
  {
   "cell_type": "code",
   "execution_count": 25,
   "metadata": {
    "collapsed": true
   },
   "outputs": [],
   "source": [
    "#Lets recommend movies for the user id - 2\n",
    "userID = 2"
   ]
  },
  {
   "cell_type": "code",
   "execution_count": 26,
   "metadata": {
    "collapsed": false
   },
   "outputs": [
    {
     "name": "stdout",
     "output_type": "stream",
     "text": [
      "\n",
      "Top 10 recommendations:\n",
      "Angel Baby (1995) score 6.74090812395\n",
      "Boys, Les (1997) score 5.74061718139\n",
      "Garden of Finzi-Contini, The (Giardino dei Finzi-Contini, Il) (1970) score 5.65833859894\n",
      "So Dear to My Heart (1949) score 5.60576449192\n",
      "Little Princess, The (1939) score 5.39192446513\n",
      "Pather Panchali (1955) score 5.23277505161\n",
      "Schindler's List (1993) score 5.217745347\n",
      "Boys of St. Vincent, The (1993) score 5.16451370716\n",
      "Everest (1998) score 5.15822530534\n",
      "Faust (1994) score 5.13845975641\n"
     ]
    }
   ],
   "source": [
    "print \"\\nTop 10 recommendations:\"\n",
    "recommendations = model.recommendProducts(userID, 10)\n",
    "for recommendation in recommendations:\n",
    "    print nameDict[int(recommendation[1])] + \\\n",
    "        \" score \" + str(recommendation[2])"
   ]
  }
 ],
 "metadata": {
  "kernelspec": {
   "display_name": "Python 2",
   "language": "python",
   "name": "python2"
  },
  "language_info": {
   "codemirror_mode": {
    "name": "ipython",
    "version": 2
   },
   "file_extension": ".py",
   "mimetype": "text/x-python",
   "name": "python",
   "nbconvert_exporter": "python",
   "pygments_lexer": "ipython2",
   "version": "2.7.11"
  }
 },
 "nbformat": 4,
 "nbformat_minor": 0
}
